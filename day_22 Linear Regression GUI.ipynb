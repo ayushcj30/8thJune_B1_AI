{
 "cells": [
  {
   "cell_type": "code",
   "execution_count": 4,
   "metadata": {},
   "outputs": [],
   "source": [
    "import pandas as pd\n",
    "import tkinter as tk"
   ]
  },
  {
   "cell_type": "code",
   "execution_count": 5,
   "metadata": {},
   "outputs": [],
   "source": [
    "model = pd.read_pickle('Linear_Regression.pkl')"
   ]
  },
  {
   "cell_type": "markdown",
   "metadata": {},
   "source": [
    "GUI\n"
   ]
  },
  {
   "cell_type": "code",
   "execution_count": 52,
   "metadata": {},
   "outputs": [
    {
     "name": "stdout",
     "output_type": "stream",
     "text": [
      "26225688.059449613\n"
     ]
    }
   ],
   "source": [
    "app = tk.Tk()\n",
    "app.geometry('350x500')\n",
    "app.title('House Price Prediction')\n",
    "\n",
    "tk.Label(app,text = 'Enter Anual Income : ',fg = 'blue').place(x=10,y=40)\n",
    "Ivar = tk.Variable(app)\n",
    "tk.Entry(app,textvariable = Ivar,width = 25).place(x=170,y=40)\n",
    "\n",
    "tk.Label(app,text = 'Enter House Age : ',fg = 'blue').place(x=10,y=80)\n",
    "HAvar = tk.Variable(app)\n",
    "tk.Entry(app,textvariable = HAvar,width = 25).place(x=170,y=80)\n",
    "\n",
    "\n",
    "tk.Label(app,text = 'Enter Number of Rooms : ',fg = 'blue').place(x=10,y=120)\n",
    "NRvar = tk.Variable(app)\n",
    "tk.Entry(app,textvariable = NRvar,width = 25).place(x=170,y=120)\n",
    "\n",
    "\n",
    "tk.Label(app,text = 'Enter Population of Area : ',fg = 'blue').place(x=10,y=160)\n",
    "Pvar = tk.Variable(app)\n",
    "tk.Entry(app,textvariable = Pvar,width = 25).place(x=170,y=160)\n",
    "predicted = tk.Variable(app)\n",
    "\n",
    "def get_price():\n",
    "    n_df = pd.DataFrame({'income':[eval(Ivar.get())],'house_age':[eval(HAvar.get())], 'rooms':[eval(NRvar.get())],'population':[eval(Pvar.get())]})\n",
    "    \n",
    "    pred= model.predict(n_df)\n",
    "    predicted.set('$'+str(round(pred[0],2)))\n",
    "    print(pred[0])\n",
    "    \n",
    "    \n",
    "    \n",
    "    \n",
    "tk.Button(app,text = 'Get House Price',command = get_price,bg = 'Orange').place(x=125,y=220)\n",
    "\n",
    "tk.Label(app,textvariable = predicted,fg = 'brown').place(x=125,y=300)\n",
    "\n",
    "\n",
    "app.mainloop()"
   ]
  },
  {
   "cell_type": "code",
   "execution_count": null,
   "metadata": {},
   "outputs": [],
   "source": []
  }
 ],
 "metadata": {
  "kernelspec": {
   "display_name": "Python 3",
   "language": "python",
   "name": "python3"
  },
  "language_info": {
   "codemirror_mode": {
    "name": "ipython",
    "version": 3
   },
   "file_extension": ".py",
   "mimetype": "text/x-python",
   "name": "python",
   "nbconvert_exporter": "python",
   "pygments_lexer": "ipython3",
   "version": "3.6.5"
  }
 },
 "nbformat": 4,
 "nbformat_minor": 2
}
